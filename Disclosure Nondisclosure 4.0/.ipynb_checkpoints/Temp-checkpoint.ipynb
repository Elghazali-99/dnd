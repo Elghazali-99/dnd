{
 "cells": [
  {
   "cell_type": "code",
   "execution_count": 28,
   "metadata": {},
   "outputs": [],
   "source": [
    "import spacy\n",
    "from spacy import displacy"
   ]
  },
  {
   "cell_type": "code",
   "execution_count": 29,
   "metadata": {},
   "outputs": [],
   "source": [
    "nlp = spacy.load('en_core_web_sm')"
   ]
  },
  {
   "cell_type": "code",
   "execution_count": 30,
   "metadata": {},
   "outputs": [],
   "source": [
    "doc = nlp(u'I lost 100000 dollars in the stock')"
   ]
  },
  {
   "cell_type": "code",
   "execution_count": 31,
   "metadata": {},
   "outputs": [
    {
     "name": "stdout",
     "output_type": "stream",
     "text": [
      "PRON\n",
      "VERB\n",
      "NUM\n",
      "NOUN\n",
      "ADP\n",
      "DET\n",
      "NOUN\n"
     ]
    }
   ],
   "source": [
    "for t in doc:\n",
    "    print(t.pos_)"
   ]
  },
  {
   "cell_type": "code",
   "execution_count": 32,
   "metadata": {},
   "outputs": [
    {
     "name": "stdout",
     "output_type": "stream",
     "text": [
      "nsubj\n",
      "ROOT\n",
      "nummod\n",
      "dobj\n",
      "prep\n",
      "det\n",
      "pobj\n"
     ]
    }
   ],
   "source": [
    "for t in doc:\n",
    "    print(t.dep_)"
   ]
  },
  {
   "cell_type": "code",
   "execution_count": 33,
   "metadata": {},
   "outputs": [
    {
     "name": "stdout",
     "output_type": "stream",
     "text": [
      "det\n",
      "nsubj\n",
      "ROOT\n",
      "nummod\n",
      "dobj\n",
      "prep\n",
      "det\n",
      "pobj\n"
     ]
    }
   ],
   "source": [
    "doc = nlp(u'The Charity gained 1000000 dollars from the campaign')\n",
    "for t in doc:\n",
    "    print(t.dep_)"
   ]
  },
  {
   "cell_type": "markdown",
   "metadata": {},
   "source": [
    "**Reddit Dataset Exploration**"
   ]
  },
  {
   "cell_type": "code",
   "execution_count": 38,
   "metadata": {},
   "outputs": [],
   "source": [
    "import sqlite3\n",
    "conn = sqlite3.connect('new_reddit.db')"
   ]
  },
  {
   "cell_type": "code",
   "execution_count": 39,
   "metadata": {},
   "outputs": [
    {
     "name": "stdout",
     "output_type": "stream",
     "text": [
      "('casualconversation', 'Hexofin', \"I've been pronouncing Kaspersky without the first s for ages, I just realized it now.\", 'God saying \"kas\" really doesn\\'t roll off the tounge doesn\\'t it?', '2x0uyc', None, 12, 10, 1424807188, None, 0.1366) \n",
      "\n",
      "('casualconversation', 'feelinglazy', 'How Do You Get Help For Your Social Problem?', \"[M,21] here.\\n\\nI have some social problem that I want to get help on.\\n\\nOn one hand, I feel that reddit can't really help me because it's anonymous and people here don't 'know' me IRL so they can't offer specific advice. On the other hand, I don't really have any close friends whom I can confide to IRL.\\n\\nI feel like people seem to grow cold towards me over time, but I don't know if it's normal and I'm being overly attached or people just don't like me. If it's the latter, I would like to learn how to fix this problem.\\n\\nShould I seek help from acquaintance on this?\", '2wki9f', None, 5, 28, 1424455034, None, 0.11614) \n",
      "\n",
      "('relationship_advice', 'rongast', 'I [30/m] just found out my girlfriend [24/f] slept with her ex the night of our first date. Advice!', 'After out first date...where we had a great night of dinner and drinks, my now girlfriend texted me saying she had a great time and insists on seeing me again right away. I recently discovered that an hour after she texted me that, she messaged an ex boyfriend who came over that night and they had sex. It\\'s been three months and I\\'ve just learned this and am struggling to get passed it. It really saddens me to think she couldn\\'t wait for sex so much that she had to do that and also that she would so easily make out with me and then an hour later be banging her ex. What would you do?\\n\\n\\n(12:24 AM UPDATE. Just came back to some great responses. Thankyou! Honestly if it was the next day or 2 days after I\\'d be a lot less hurt. The fact that it was literally an hour after our first kiss really makes it harder. The other day she said we should both get tattoos of the gps coordinates of the corner we first kissed. An hour after that first kiss she\\'s got the ex who\\'s in town in her bed. \\n\\nHere\\'s some quick rambling info that might better put in perspective where we are now. Sorry I\\'m kind of buzzed and i\\'m going to pound out a lot of info quickly. Before learning about the first date ex bang: she mentioned a few times that she really wanted to go home with me on that first night, but had to keep telling herself \"don\\'t do it, you like him.\" On our second date, she literally asked how spontaneous I was because she keeps thinking about sleeping with me. 4 nights after our first date. (She told me later that she hadn\\'t had sex for 2 months before meeting me..cough cough...2 months...4 days...it\\'s all the same right?..cough) So we went back to my place and had sex. We agree on exclusivity.\\n\\n4th date she\\'s saying she\\'s in love with me. She was getting texts from a different ex who just moved to town wanting to get coffee or have drinks. She changed his name in her phone to a girls name so I wouldn\\'t \"freak out\". How nice of her. She say\\'s just friends and they\\'re innocent. I halfway believe her. She would move in with me and marry me if I asked her tomorrow. Then I learned she banged a different ex on the night of our first date. Yeah I\\'ve been trying the past month to get beyond this. But I can\\'t help thinking our relationship is now tainted. Like, say we get married and have kids. The kids ask me about how I met mommy and about our first date. The memory is destroyed for me.) \\n', '2xiq22', None, 41, 129, 1425174480, None, 0.143231578947) \n",
      "\n",
      "('relationships', 'I_Told_On_Anne_Frank', 'I [21 M] am having doubts about my relationship of 1 1/2 years with my girlfriend [19F]', 'I have been with my girlfriend for about a year and a half, Valentines day actually would mark the 6 months. She is gorgeous, kind, naive, faithful, clingy, and has her feet pretty much on the ground. I love her. You\\'ll see me say this a lot.\\n\\nI rushed into this relationship with her. We met on Facebook, hung out once or twice, then went on a date and had our first kiss. Been together ever since. We have nearly nothing in common apart from a shared hobby, though she has picked up some music tastes from me. \\n\\nI can\\'t stand being around her anymore. We have a \"long-distance\" relationship(We live about 3 hours apart.), and every single time I come home, she\\'s attached to my hip. I can\\'t hang out with my family or friends without her being there. I totally get that she doesn\\'t see me for a couple weeks at a time, but every time I\\'ve hinted at her to back off, she doesn\\'t pick it up. I even told her one time to back off. She obliged for a weekend, then we went back into the same old cycle. \\n\\nTo sum up so far: Long distance, I love her, don\\'t have much in common with her, and she is very clingy. \\n\\nDid I mention she goes to a private Christian college and I am agnostic?\\n\\nAnyway. Last night, I met this girl. I was at a friends house and he had a few of his friends from back home (where we are both from. We go to school together but did not know each other prior to moving here.) come over.\\n\\nShe was a little less attractive than my girlfriend, but she just seemed way more interesting. She shares TONS of common interests with me. We talked for a couple hours before going to bed. \\n\\nAll I could think about was \"Wow. I don\\'t even know this girl and I would be happier with her than the girl I\\'m pretty sure I will end up marrying.\"\\n\\nNow, I would never leave my girl for another I just met, it was just a thought.\\n\\nI really don\\'t even know specifically what it is I want advice on. I love my girlfriend, I just hate that I don\\'t like being around her anymore. I would just like some outside perspective on the situation.\\n \\n\\n\\n\\n---   \\nTL;DR: I love my SO, can\\'t stand to be around her, but also can\\'t bear the thought of not being with her. ', '2v5wf2', None, 0, 2, 1423370042, 'Relationships', 0.192821212121) \n",
      "\n"
     ]
    },
    {
     "name": "stdout",
     "output_type": "stream",
     "text": [
      "('abuseinterrupted', 'invah', \"An Adult Child Abuse Survivor's Guide to the Holidays by Gracie Davis (recovered from archive)\", 'My friends, I spent much of this year speaking out to survivors of child sexual, physical and psychological abuse by their parent(s)/family member(s). Though it\\'s really shaky at times to stand up and speak at the podium, whether in real life or in online writing, I have been compelled, more than ever, to say something, anything and everything, to my true Brothers and Sisters who share this awful, soul crushing history.  As my dear friend and the great blogger Deb Roby reminds me, it is my talking year, after all.  (At this moment, I can\\'t find the post where I tell you all about one of my MOs:  I talk less during even numbered years - the quiet year. And, I talk more during the odd numbered years - the talking year.)\\n\\nAnd, as I was compelled to stand in front of an audience of hundreds this past summer to tell you to Forgive Yourself, I am just as driven to present this blog post to all of you who need to learn or remember strategies for coping during the Holidays.  These designated days for family are lovely in theory but outright painful for those of us who have been abused by family and/or adults close to us when we were young. We need to remember that we made it this far and we can go further. The way to do that is to get some help.  I\\'d like to think this list will be helpful.\\n\\nPlease add your own strategies for coping in the comments. Let\\'s share this precious information.  Let\\'s help one another.\\n\\nFriends, these survival strategies have worked for me in the past and will work for me today and at Christmas, Mother\\'s Day, Father\\'s Day, our abusers\\' birthdays, Easter, funerals, weddings - anytime I have to be with my family of origin. I\\'m 54 years old and have been around long enough to sort out what works and what doesn\\'t, so I\\'m giving you my best here, dollins.\\n\\nFirst, and most importantly, this is the primary principle to follow when you\\'re in the presence of perpetrators and their allies:\\n\\n&gt;Remember this always -\\n\\n&gt;DO NOT ABANDON YOURSELF.\\n\\n&gt;I can\\'t say this enough - do not abandon yourself.\\n\\nYou were abandoned as a child. You did not deserve this. No child deserves this. So, as adults, we take care of ourselves as if we are our own precious child. Imagine taking your child-self gently but firmly by their lovely, grubby little hand and getting them out of harm\\'s way. There are many ways to do this whether you are in the presence of perpetrators and their allies (like your own dismissive and scornful siblings who get angry whenever you mention the legacy and source of your pain) or if you\\'re in a place where you may be triggered.\\n\\nThe following is listed in no particular order of importance because it\\'s all important. I respect that some of these ideas may work for you, some may not. As long as you keep that all-encompassing guidance \"Do not abandon yourself\" in mind, you can take it from there.\\n\\nHere we go:\\n\\nRemember who you are TODAY. You are no longer a child. Indeed, there is a hurt child who is alive and well within you. But, now you\\'re an adult who can make choices.  Don\\'t forget, you are an adult and you have power over your life.\\n\\nOne of the choices you can make is to not go to the abusive family\\'s house. You don\\'t have to go. You can tell them you\\'re sick if you can\\'t tell them the actual reason for your absence. It\\'s okay to \"lie\" in this situation if fear keeps you from telling the truth of the matter.  It\\'s not really a lie, though. The abuse was and is responsible for its consequences that you may suffer from - depression, anxiety, post-traumatic stress disorder.\\n\\nIf you do \"call in sick\", don\\'t answer the phone if you know your abusive family members are trying to call your cell or land line  To this, I say - thank you, technology, for caller ID. Don\\'t answer the calls from your abusive family members for up to a week. Then, if you must, call back and say you\\'re feeling better. And, when I say\"better\", I mean that you\\'re probably doing great because you didn\\'t spend time with people who were not good to you and continue to be bad to you.\\n\\nIf you have to be with abusive family members, do whatever you need to do to stay centered as you cannot abandon yourself and you need to remember who you are today. \\n\\nStaying centered may involve many tactics:\\n\\nGo to your abuser\\'s house with your real family, your husband, your kids, your chosen family of dear friends who believe in you. If you need support and active reminders of who you are now, take your supportive people with you. These people are your true family members who love you, won\\'t abandon you and remind you of who you are today.\\n\\nThis is a big one - STAY SOBER. I cannot emphasize that enough. If you get drunk or high, you will lose that centered spot. You will relax, that\\'s true, but it\\'s a false sense of ease.  Do take your Xanax if necessary but stick to your prescribed dose. The Bloggess will always recommend that you should avoid knocking back handfuls of the Judy Garland Trail Mix. And, there you go, a little Bloggess humor for you on a tough day. \\n\\nHelp in the kitchen. Be involved with the preparation. Do this only if such activities are not triggering. I always do this. I put my head down and work. I set the table, I do the dishes, I cook. I put my head down and work it, like a Zen monk whose practice includes performing chores mindfully. That\\'s an excellent way to stay centered, pretending to be a Zen monk and doing tasks wholeheartedly.\\n\\nSit by a window so you can look outside. When you pull in the outside world as you sit with those who abandoned you, the world becomes that much bigger. There\\'s more out there, beyond the dark cave of the abuser\\'s house. \\n\\nGo beyond looking out the window and get out there in that bigger world. Expand your universe. The abuser\\'s house or the house with the abusers in it is not the core of the world. The world is beyond that house. In this world there are people who believe in you and love you unconditionally. That world contains your working life where you are valued or perhaps your university studies where you excel. So, go outside for a few minutes and take a walk in the bigger world.\\n\\nPut your therapist\\'s number on fast dial. Call anytime. Even if you reach their voice mail, leave a message. Don\\'t fret if they don\\'t call back. Instead, revel in the knowledge that you were wise enough to reach out. You asked for help and that action alone is therapeutic.\\n\\nKeeping your therapist in mind, remember the tricks and tools they have suggested to help you through these tough times. For example, I like to use what all of my therapists taught me -  the classic meditation exercise of sitting comfortably and going to my inner place of refuge. FYI - it\\'s a beach on the Big Island of Hawaii. Not bad, eh?\\n\\nMinimize conversation with the perpetrator and anyone who has been abusive to you. Again, you can say you\\'re not feeling well, you have a headache, you need to be quiet. And, again, you ain\\'t lying here. That person makes you feel unwell and your head probably hurts when you\\'re around them.\\n\\nIf you cannot avoid conversations with those people, keep something in your pocket to remind yourself of who you are today. I use a little plastic monkey from the Barrel of Monkeys toy-game. Small and with a defined shape, the monkey reminds me of the relative light heartedness of my life away from the abusers. Also, a monkey is not to be messed with and you can pretend the monkey is throwing feces at whoever needs to be taken down.\\n\\nYou can also keep your cell phone on to Twitter, Facebook or chat or whatever you use for social media interactions. Set it to buzz everytime you get an update. Another reminder of the bigger world out there and that you\\'re part of that bigger, better world.\\n\\nOkay, get ready for this big one, survivors:\\n\\nRemembering you are an adult of legal age, Walk out the door the second things get gnarly. Just go.\\n\\nEveryone, no matter how badaas and brave they seem to be, is scared shitless to do this.  I was scared to do this. But, I\\'ve done it and I\\'ll do it again if I need to  because it felt exhilarating, liberating and life affirming.\\n\\nDon\\'t leave yelling, but if you do, try to cry, yell some more or laugh really hard once you\\'re out the door to release what is truly an emotional atomic bomb full of energy. Really try to do that before you get in the car. Do not drive home in an intense emotional state as you are not centered and in control. Respect your anger and anguish and give it time to release and subside. You will feel better and that will help you think clearly as you operate that moving vehicle.\\n\\nOnce you\\'re back home, take a long, hot shower or bath. Put on clean sweats or pajamas, rev up the TV and watch football or, better yet, that really cool and amazing CNN special about heroes. \\n\\nDo upbeat things. Listen to music. \\n\\nI\\'ll end here with a [visual command](http://web.archive.org/web/20100505232029/http://gracedavis.typepad.com/.a/6a00d8341c803253ef0120a6de1115970b-pi) from me:\\n\\n**You can do it. Yes, you can.**\\n\\nTake good care today and on every holiday, my brothers and sisters. \"Take to the sky,\" dollins.\\n\\nAnd yes, please tell us, share what you do to get through the holidays. \\n\\nPeaceful, warm and blessed Thanksgiving Day to all of you, my good readers. I am grateful for your company. Thanks for listening to me.\\n\\nLove, GraceD', '2nhjvp', None, 3, 3, 1417017864, None, 0.089843442623) "
     ]
    },
    {
     "name": "stdout",
     "output_type": "stream",
     "text": [
      "\n",
      "\n",
      "('anxiety', 'rylett', 'Bit of an odd discovery to help anxiety symptoms', 'You guys may be aware of this already but I just discovered it.\\n\\nFelt a panic attack manifesting and started to chew some menthol gum (without even thinking) and felt better within about 5 minutes.\\n\\nGive it a try!', '2xnvln', None, 3, 0, 1425299924, None, -0.154875) \n",
      "\n",
      "('anger', 'MaybeChange', 'Where do I start looking for help?', \"So last night i broke my hand punching a chair after losing my temper during an argument. I'v always struggled with my temper and with anxiety, whether they are related i don't know.\\n\\nI just feel like exploding sometimes when i cant make someone see something the way i do and as i live with my girlfriend and spend most of my time with her obviously this ends up being mostly with her. I would never hit her or even think about it, just want to clarify that. \\n\\nI really dont want this to ruin my relationship or my life. I figure now, where i have hit something and hurt myself, it must be at a point where i need to do something to help myself. I'm fed up of justifying being THAT angry to myself, its not normal and not healthy.\\n\\nPlease help me. Any advice at all will help.\", '2o1f2u', None, 5, 6, 1417521787, None, -0.11339) \n",
      "\n",
      "('advice', 'aredditguy12', 'Need help with the aftermath of a breakup', \"Hey everyone,\\n\\n\\nI just had broken up with my girlfriend of about 2 years. She had bought a house about 6 months ago and I moved in with her and her daughter. She isn't very financially sound but, I agreed to pay her 600 in 'rent' every month which was about half the bills. We never had any formal agreement (legally), I just said I would pay that.\\n\\nI had moved all my stuff in and helped pay for a lot of other stuff around the house also, which probably amounted in the thousands.\\n\\nWe got into a 'fight' on a Friday a couple weeks ago and she asked me to move out. I did, I went to my parents with some stuff.\\nWe officially broke up last week Wednesday (28th). I asked her then when she wanted me to move my stuff, she said whenever or whenever I get my own place. Then after I think realizing we weren't getting back together she said ASAP. I then asked her a good time and she said she wanted to be there and have the child not there...Which limits it to every other weekend (which the breakup made it fall on an 'on' weekend with the child) and Wednesday nights for a couple hours.\\n\\nI told her I was just going to take all my stuff last night and then Saturday morning. She then asked for my 600 for rent since my stuff wasn't gone. She then complained how she didn't plan for this and didn't have any money so I need to pay her. I rebuffed that and she backed off.\\n\\nI also pay for the Internet in the house and wanted to get that switched, but I would need to cancel and pay the whole fee of 200+, which I didn't want to do. The ex wanted to get her own to bundle and save money. I offered a compromise and offered to pay for the Internet until I get a house then pay her what she would have saved. She was then asking for the 600 AGAIN and said my stuff is still there and any other landlord would make me pay for another month. I was then just sure I was going to just cancel it and say screw it.\\n\\nWhat makes it more complicated is we got a dog (Her idea 100%) but she hates the dog and I love it. I wanted the dog, but don't have a place for it right now though, so she is keeping it for now.\\n\\nShe seems to be going downhill saying that she could just change the locks and make sure I can't get in (which I am sure she would do)\\n\\nI am now planning on getting my stuff out tomorrow afternoon while she is at work, but can't get the dog out. \\n\\nAny advice on what I can do? I am afraid that she will get rid of the dog to get back at me for not paying.\\n\\nShould I pay her the money? Just give her a little bit? Am I the idiot or am I being reasonable with this? I don't know at this point.\", '2uwxbt', None, 2, 3, 1423172176, 'Relationships', 0.0132361111111) \n",
      "\n",
      "('relationship_advice', 'melancholyholic', 'I [22/m] disagreed with my girlfriend at work [22/f] and my friend [22/m] and may have caused damage.', 'I happen to work with my partner in a restaurant, and today we had a bit of a bout. Whats worse is that I also had a bout with someone who I am not sure is really a true friend. It should probably be said that i have major issues letting things go. Basically, my partner is in a higher up position than me and well, she gave me an instruction that I didnt agree with. I was handing food to her, all well, until she told me that i had forgotten something and that I should \"make sure you dont forget this\". What upset me is that I feel like she said it in a tone and manner that was degrading, as if to say not giving her everything she needed was my fault, when in fact the meal i handed her wasnt supposed to include what she was asking for, so says management. I openly told her that I would not be giving her the item because management doesnt agree with that. In a rather loud way I suppose i said \"No! Im not gonna be including that!\" \\n\\nLater on, this friend of mine also gave me an instruction but i believed him to say it in a way that was to imply I didnt know what I was doing. It upset me very much and i sarcastically said to him something by the lines of \"yeah, actually I can handle it, im not as freaking stupid as you would want me to be!\". \\n\\nNow my partner is rather upset with me, and shes brought it to my attention that I shouldnt have acted how i did with the friend, even though I feel she hasent even heard me out and she wasnt there to witness it. I just feel SO tired of people talking down to me or feeling worthless and I dont know if my defensiveness is justified. I feel right in being offended and I know I just want to STOP living a life where people talk to me in a degrading tone like im an idiot, it boils my blood! I just dont know what to do anymore or what to feel.\\n\\nThats about it. Im very scared of whatever outcomes ive created but i fear it may cause a major rupture in the relationships I carry. Have I gone too far or have I gone just far enough. Im really not sure :/', '2vk8cj', None, 2, 18, 1423679675, None, -0.105755172414) \n",
      "\n",
      "('relationships', 'Illdriveyertruck', 'Me [23M] dumped by her [23F]. All our friends were mutual.', \"Just moved to new city ~6 months ago, first job out of college joining a 'development program'. Thats how I met her, and we started dating pretty soon after we started work. \\n\\n\\n\\nShe dumped me last week because I was emotionally unavailable and I didn't give her enough attention - both fair points and I should take time to work on loving myself more anyway. I thought I was fine with everything and we decided to remain friends. I usually follow the no contact rule but this time I would be left with practically no friends and no support group if I just stopped showing up to things if I knew she would be there. Just seeing her at the bar hurts, seeing other guys approach her, seeing her smile at them. \\n\\n\\n\\nI really want to be friends with her and for this to work out but I'm struggling. I can't ask the group of mutual friends to split on the weekends just for my sake, but I also am a wet blanket when I'm around her at parties/bars.\\n\\n\\n\\nHas anyone been in a similar situation before? \\n\\ntl;dr: Too many mutual friends, how to deal? \", '2vo8n5', None, 2, 8, 1423763811, 'Breakups', 0.206316666667) \n",
      "\n"
     ]
    }
   ],
   "source": [
    "c = conn.cursor()\n",
    "\n",
    "for row in c.execute('SELECT * FROM submissions LIMIT 10'):\n",
    "    print(row,'\\n')"
   ]
  },
  {
   "cell_type": "code",
   "execution_count": 40,
   "metadata": {},
   "outputs": [
    {
     "name": "stdout",
     "output_type": "stream",
     "text": [
      "('casualconversation', 'Kimpak', '2x0uyc', 'covv0t6', '2x0uyc', 'There\\'s a lot of that in the IT world.  There is a staggering amount of people that say \"linkskees\" when they mean linksys.  Modems become Mode eee umss.  Routers are rooters.  Europeans get a pass at the router thing though.', 0, 0, 3, 1424807529, 0.9316852688789368, None, 0.0) \n",
      "\n",
      "('casualconversation', 'epic_jakobs', '2x0uyc', 'covv29h', '2x0uyc', 'So how did you say it? Kah-per-ski?', 0, 0, 3, 1424807592, 0.8665561676025391, None, 0.0) \n",
      "\n",
      "('casualconversation', 'Hexofin', '2x0uyc', 'covw7a0', 'covv29h', 'Yea pretty much.', 1, 0, 3, 1424809302, 0.7748690247535706, None, 0.4939) \n",
      "\n",
      "('casualconversation', 'subflax', '2x0uyc', 'cow01td', 'covw7a0', 'Me fucking to man, for yearss. \\nThanks for the enlightenment. ', 2, 0, 5, 1424814955, 0.8614867329597473, 'non_abuse', 0.2202) \n",
      "\n",
      "('casualconversation', 'Hexofin', '2x0uyc', 'cowbcoj', 'cow01td', \"Ya know what, fuck it.\\n\\nI'm gonna call it just kapersky and save myself of mental grammatical bullshit.\\n\\nSaying Kaspersky is way too fucking weird. It feels like how nobody stresses the R in library, because that would just be weird, instead we say libary, because the the English language is quite paradoxical at times.\", 3, 0, 1, 1424834338, 0.9516134858131409, 'non_abuse', -0.30995) \n",
      "\n",
      "('casualconversation', 'subflax', '2x0uyc', 'cowzmgr', 'cowbcoj', 'Fuckin a hahah', 4, 0, 2, 1424893350, 0.6204878091812134, None, 0.0) \n",
      "\n",
      "('casualconversation', 'kingphysics', '2x0uyc', 'covzkvd', '2x0uyc', 'Woah. I have been saying it like that until you told me right now!!\\n\\nI feel stupid...', 0, 0, 2, 1424814257, 0.9096560478210449, None, 0.157933333333) \n",
      "\n",
      "('casualconversation', 'harmonictimecube', '2x0uyc', 'cow6f6d', '2x0uyc', '...Shit', 0, 0, 2, 1424825726, 0.4926895499229431, None, 0.0) \n",
      "\n",
      "('casualconversation', 'MR_Rictus', '2x0uyc', 'cow036f', '2x0uyc', \"Sponsor of the Ferrari Formula 1 team. I don't recall knowing of the company until I looked them up because of Ferrari.\", 0, 0, 1, 1424815011, 0.9240126609802246, None, 0.0) \n",
      "\n",
      "('casualconversation', 'RutherfordBHayes', '2x0uyc', 'cow2c0z', '2x0uyc', \"I do this kind of thing a lot. I think I must pick up most new words from reading instead of hearing them. I'll go around having no idea I'm saying it wrong until someone calls me out on it.\", 0, 0, 1, 1424818574, 0.933846116065979, None, -0.2162) \n",
      "\n"
     ]
    }
   ],
   "source": [
    "c = conn.cursor()\n",
    "\n",
    "for row in c.execute('SELECT * FROM comments LIMIT 10'):\n",
    "    print(row,'\\n')"
   ]
  },
  {
   "cell_type": "code",
   "execution_count": 41,
   "metadata": {},
   "outputs": [
    {
     "name": "stdout",
     "output_type": "stream",
     "text": [
      "('13878b', 'instrument, thing hit by or with', 'beat', 'up', 17, 19, '01') \n",
      "\n",
      "('13878b', 'thing hit', 'beat', '] We have been together on and off for 5yrs', 20, 63, '01') \n",
      "\n",
      "('13878b', 'agent, hitter - animate only!', 'beat', 'my bf []', 0, 8, '01') \n",
      "\n",
      "('13878b', 'thing hit', 'beat', 'me', 14, 16, '01') \n",
      "\n",
      "('13878b', 'topic', 'be', 'We', 22, 24, '01') \n",
      "\n",
      "('13878b', 'owner', 'have', 'He', 65, 67, '03') \n",
      "\n",
      "('13878b', 'AM-TMP', 'have', 'always', 72, 78, '03') \n",
      "\n",
      "('13878b', 'AM-TMP', 'have', 'always', 72, 78, '03') \n",
      "\n",
      "('13878b', 'owner', 'have', 'He', 65, 67, '03') \n",
      "\n",
      "('13878b', 'possession', 'have', 'a temper', 83, 91, '03') \n",
      "\n"
     ]
    }
   ],
   "source": [
    "c = conn.cursor()\n",
    "\n",
    "for row in c.execute('SELECT * FROM submission_srls LIMIT 10'):\n",
    "    print(row,'\\n')"
   ]
  },
  {
   "cell_type": "markdown",
   "metadata": {},
   "source": [
    "**Exploration of the Shelve Data**"
   ]
  },
  {
   "cell_type": "code",
   "execution_count": 66,
   "metadata": {},
   "outputs": [],
   "source": [
    "import shelve"
   ]
  },
  {
   "cell_type": "code",
   "execution_count": 67,
   "metadata": {},
   "outputs": [],
   "source": [
    "d = shelve.open(r'reddit_data_shelves\\redditAbuseSubmissions') # open -- file may get suffix added by low-level"
   ]
  },
  {
   "cell_type": "code",
   "execution_count": 68,
   "metadata": {},
   "outputs": [],
   "source": [
    "klist = list(d.keys())\n",
    "data = d['data']\n",
    "labels = d['labels']\n",
    "\n",
    "d.close()"
   ]
  },
  {
   "cell_type": "code",
   "execution_count": 69,
   "metadata": {},
   "outputs": [
    {
     "data": {
      "text/plain": [
       "['data', 'subIds', 'roles', 'predicates', 'labels']"
      ]
     },
     "execution_count": 69,
     "metadata": {},
     "output_type": "execute_result"
    }
   ],
   "source": [
    "klist"
   ]
  },
  {
   "cell_type": "code",
   "execution_count": 70,
   "metadata": {},
   "outputs": [
    {
     "data": {
      "text/plain": [
       "['Financial Independence I am 18, with no job and no friends in a new city (Sacramento) living with my abusive boyfriend. I am currently completely financially dependent on my boyfriend. I am looking for a job but the search is taking longer then I had hoped and I want to have the option to leave. I was wondering if anyone knew about any services to help domestic violence victims find work. ',\n",
       " \"Who decided that online calculus assignments was a good idea? Seriously. It gets antsy about inputting brackets and there's absolutely no room for error. *Screams*\\n\\nWhat frustrates CC?\",\n",
       " \"My friend recently told me she was abused as a child.  What should I do? Since school began last September, I noticed my friend hasn't been herself.  There were a few other things that she had done that weren't like her that my friends had told me about, and that really added to the fact that she was being very different.  Recently I confronted her on it and she told me she couldn't tell me in person so we messaged over facebook.\\n\\nA few months ago a friend of hers committed suicide, and that contributed to it, but she also said that something else was bugging her.  She came out and told me that as a child she had been molested by her aunt's husband.  From when she was 3 until 8 years old, he would  touch her and I am the only person she has ever told.  I've known her since we were five, and when we were about 10 she wanted to tell me, but decided against it.  The uncle and aunt recently got divorced so I don't think she sees him any more.  She was reminded of it because her cousin turned 3 this past September.  She said she got over it, but it's obviously come back and it will continue to affect her.\\n\\nWhat should I do?  It's been about a month since I talked to her about it.  The abuse isn't still happening so it's not like it will stop it, but this man could easily do it to another little girl, such as her cousin.  I want to help my friend and talk to her about it again, but I don't know what to say.  I don't know his name so I can't report it, and she made me promise not to tell her parents.  If I need to though, I will, but she said her dad would find and kill the man (I don't doubt it either).\\n\\nPlease, could anyone give me advice on how to help?  Did anyone have a similar experience in telling their friends or someone telling them?\",\n",
       " \"How's it going on this monday night? I am listening to the new Purity Ring album and cataloging my photography homework, what are you up to?\",\n",
       " 'I\\'m talking to someone who\\'s being abused by their mother in NYC. Please help. I\\'m talking to someone in New York City. They live with their mom, they\\'re 17. No job, friends aren\\'t responding.\\n\\nTheir mom is abusive, and she\\'s promised to hurt him again in the future. From the sound of it, this is a regular thing. Earlier tonight, it sounded like he was on the edge of suicide because he didn\\'t think he had a way out.\\n\\nI\\'m trying to help, but I\\'m very limited on resources and don\\'t really know what I can do to get him safe. He\\'s worried he won\\'t have anywhere to go, and that his mom is his only \"hope.\"\\n\\nPlease help, I really don\\'t know what to do.',\n",
       " \"I pass a Dodge Challenger Hellcat each morning in my Ford Focus sedan. What was your first car and what's your dream vehicle? I cannot envy my neighbor more than I already do, well except for the ~$1200 car payment and monthly insurance rate he has to pay for his beautiful piece of engineering. Any of you have a similar lust for vehicles?\\n\\nI'd ask this at the dedicated car subreddit but feel too intimidated by the users. I also wouldn't be able to hold a conversation about BMWs or Chevys either. :P\",\n",
       " \"This Valentine's... With all these posts about Valentine's I see scattered I thought I'd say something here.\\n\\nNormally I don't really care that much about this holiday. I mean yea I was almost always single but I never really joined a pity party when it came to this type of a thing.\\n\\nThis year though it's different.\\n\\nYou know how if you were adopted or something every time someone mentioned how wonderful their family was growing up it would be like a prick on your heart? That's how I feel this year about this holiday.\\n\\nI am and have been going through a rough break (not breakup) with someone and every time I see something about this damn holiday it reminds me of it.\\n\\nPlease, those of you who are thinking about talking about it, go for it. I just thought it necessary for me to express this, not in an attempt to guilt or manipulate others but just as an outlet of expression.\\n\\nDoes anyone else feel similar?\",\n",
       " 'Weird dream about the end...and I caused it? I had a weird dream a couple nights ago and this was one was more clear than a lot I\\'ve had before. Basically, it was kind of like the movie, \"The Box\". A random stranger came up to me and gave me this device. The stranger said that if I push the device, the world will end, but would be back after one year if I didn\\'t decide to press it in order to collect the device, and then just disappeared. I laughed about it and was about to throw it out before a crazy thought came to my head. What if it was true? Wouldn\\'t that make me all powerful? I decided to have some fun and do a social experiment. I\\'ve been super happy a lot of times, but I\\'ve never been in love. I posted on all the major social media sites about the device I had, and that if any girl could show me what it felt like to be in love within a year, I wouldn\\'t destroy the world. This was pretty much a huge joke. Even though it was a joke, no one contacted me. At first I didn\\'t make a big deal of it, but slowly I began to become more cynical. Was no one at least curious about the situation and wanted to talk to me about it? A year passed by, and I was sitting on a park bench, when the random stranger appeared. He asked me if I made my decision. I just sat there and thought about it. Could I look seven billion plus people in the face and say, \"I\\'m sorry, but you died because of me\"? Who was I to judge anyone? I ended up pressing the button and handing it back to him, thinking this was somehow a test of my character. All of a sudden everything started to tremble and people began screaming. The first thing I felt was sadness that I destroyed the world, but more so, it was the sadness that I had lost faith in humanity; that I could love persons, but hate people. That\\'s when I woke up super confused and sad.',\n",
       " \"got tests tomorrow but don't feel like studying anymore, how about you? do you have any tests or important things to do tomorrow or in the next few days?\"]"
      ]
     },
     "execution_count": 70,
     "metadata": {},
     "output_type": "execute_result"
    }
   ],
   "source": [
    "data[1:10]"
   ]
  },
  {
   "cell_type": "code",
   "execution_count": 71,
   "metadata": {},
   "outputs": [
    {
     "data": {
      "text/plain": [
       "1104"
      ]
     },
     "execution_count": 71,
     "metadata": {},
     "output_type": "execute_result"
    }
   ],
   "source": [
    "len(data)"
   ]
  },
  {
   "cell_type": "code",
   "execution_count": 72,
   "metadata": {},
   "outputs": [
    {
     "data": {
      "text/plain": [
       "['abuse',\n",
       " 'non_abuse',\n",
       " 'abuse',\n",
       " 'non_abuse',\n",
       " 'abuse',\n",
       " 'non_abuse',\n",
       " 'non_abuse',\n",
       " 'non_abuse',\n",
       " 'non_abuse']"
      ]
     },
     "execution_count": 72,
     "metadata": {},
     "output_type": "execute_result"
    }
   ],
   "source": [
    "labels[1:10]"
   ]
  },
  {
   "cell_type": "code",
   "execution_count": null,
   "metadata": {},
   "outputs": [],
   "source": []
  }
 ],
 "metadata": {
  "kernelspec": {
   "display_name": "Python 3",
   "language": "python",
   "name": "python3"
  },
  "language_info": {
   "codemirror_mode": {
    "name": "ipython",
    "version": 3
   },
   "file_extension": ".py",
   "mimetype": "text/x-python",
   "name": "python",
   "nbconvert_exporter": "python",
   "pygments_lexer": "ipython3",
   "version": "3.6.4"
  }
 },
 "nbformat": 4,
 "nbformat_minor": 2
}
